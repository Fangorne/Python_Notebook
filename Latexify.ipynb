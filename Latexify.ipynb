{
  "nbformat": 4,
  "nbformat_minor": 0,
  "metadata": {
    "colab": {
      "provenance": [],
      "collapsed_sections": [],
      "toc_visible": true,
      "authorship_tag": "ABX9TyN6v155fDIh1AkYncv+S1Lk",
      "include_colab_link": true
    },
    "kernelspec": {
      "name": "python3",
      "display_name": "Python 3"
    },
    "language_info": {
      "name": "python"
    }
  },
  "cells": [
    {
      "cell_type": "markdown",
      "metadata": {
        "id": "view-in-github",
        "colab_type": "text"
      },
      "source": [
        "<a href=\"https://colab.research.google.com/github/Fangorne/Python_Notebook/blob/main/Latexify.ipynb\" target=\"_parent\"><img src=\"https://colab.research.google.com/assets/colab-badge.svg\" alt=\"Open In Colab\"/></a>"
      ]
    },
    {
      "cell_type": "code",
      "source": [
        "!pip install latexify-py"
      ],
      "metadata": {
        "colab": {
          "base_uri": "https://localhost:8080/"
        },
        "id": "8L4EvTosUf6F",
        "outputId": "eaa2d0dd-90ee-4880-fdd5-5e4abe763163"
      },
      "execution_count": 3,
      "outputs": [
        {
          "output_type": "stream",
          "name": "stdout",
          "text": [
            "Looking in indexes: https://pypi.org/simple, https://us-python.pkg.dev/colab-wheels/public/simple/\n",
            "Collecting latexify-py\n",
            "  Downloading latexify_py-0.0.7-py3-none-any.whl (9.0 kB)\n",
            "Requirement already satisfied: dill>=0.3.2 in /usr/local/lib/python3.7/dist-packages (from latexify-py) (0.3.5.1)\n",
            "Installing collected packages: latexify-py\n",
            "Successfully installed latexify-py-0.0.7\n"
          ]
        }
      ]
    },
    {
      "cell_type": "code",
      "execution_count": 7,
      "metadata": {
        "colab": {
          "base_uri": "https://localhost:8080/",
          "height": 90
        },
        "id": "BqpVnDPeUCrM",
        "outputId": "dd8ddd30-1bbd-4453-8d24-be8fa7d879fd"
      },
      "outputs": [
        {
          "output_type": "stream",
          "name": "stdout",
          "text": [
            "\\mathrm{solve}(a, b, c)\\triangleq \\frac{-b + \\sqrt{b^{2} - 4ac}}{2a}\n",
            "\n"
          ]
        },
        {
          "output_type": "execute_result",
          "data": {
            "text/plain": [
              "<latexify.core.with_latex.<locals>._LatexifiedFunction at 0x7ff800ad8810>"
            ],
            "text/latex": "$$ \\displaystyle \\mathrm{solve}(a, b, c)\\triangleq \\frac{-b + \\sqrt{b^{2} - 4ac}}{2a} $$"
          },
          "metadata": {},
          "execution_count": 7
        }
      ],
      "source": [
        "import math\n",
        "import latexify\n",
        "\n",
        "\n",
        "@latexify.with_latex\n",
        "def solve(a, b, c):\n",
        "    return (-b + math.sqrt(b**2 - 4*a*c)) / (2*a)\n",
        "print(solve)\n",
        "print()\n",
        "solve"
      ]
    }
  ]
}