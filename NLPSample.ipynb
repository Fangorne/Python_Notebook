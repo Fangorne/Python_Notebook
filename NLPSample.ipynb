{
  "nbformat": 4,
  "nbformat_minor": 0,
  "metadata": {
    "colab": {
      "provenance": [],
      "authorship_tag": "ABX9TyMLF+p2ULaPkB95XpcU6pT5",
      "include_colab_link": true
    },
    "kernelspec": {
      "name": "python3",
      "display_name": "Python 3"
    },
    "language_info": {
      "name": "python"
    }
  },
  "cells": [
    {
      "cell_type": "markdown",
      "metadata": {
        "id": "view-in-github",
        "colab_type": "text"
      },
      "source": [
        "<a href=\"https://colab.research.google.com/github/Fangorne/Python_Notebook/blob/main/NLPSample.ipynb\" target=\"_parent\"><img src=\"https://colab.research.google.com/assets/colab-badge.svg\" alt=\"Open In Colab\"/></a>"
      ]
    },
    {
      "cell_type": "code",
      "source": [
        "!pip install transformers"
      ],
      "metadata": {
        "id": "fPEia5kzbatC"
      },
      "execution_count": null,
      "outputs": []
    },
    {
      "cell_type": "code",
      "execution_count": 8,
      "metadata": {
        "colab": {
          "base_uri": "https://localhost:8080/"
        },
        "id": "uyUZjU7VbYEV",
        "outputId": "605bf8bf-4f9b-46ed-d136-2064e46a03a8"
      },
      "outputs": [
        {
          "output_type": "stream",
          "name": "stdout",
          "text": [
            "['5 stars']\n",
            "['1 star']\n"
          ]
        },
        {
          "output_type": "stream",
          "name": "stderr",
          "text": [
            "/usr/local/lib/python3.7/dist-packages/ipykernel_launcher.py:26: UserWarning: Implicit dimension choice for softmax has been deprecated. Change the call to include dim=X as an argument.\n"
          ]
        }
      ],
      "source": [
        "from transformers import AutoTokenizer, CamembertTokenizer, AutoModelForSequenceClassification, pipeline, AutoModelForTokenClassification\n",
        "import torch\n",
        "import torch.nn.functional as F\n",
        "\n",
        "class SentimentDetection:\n",
        "\n",
        "    def __init__(self, device):\n",
        "        #  pretrained \"nlptown/bert-base-multilingual-uncased-sentiment\" or \"cmarkea/distilcamembert-base-sentiment\"\n",
        "        self.model_name = \"nlptown/bert-base-multilingual-uncased-sentiment\"\n",
        "        self.model = AutoModelForSequenceClassification.from_pretrained(self.model_name).to(device)\n",
        "        # self.tokenizer = CamembertTokenizer.from_pretrained(self.model_name)\n",
        "        self.tokenizer = AutoTokenizer.from_pretrained(self.model_name)\n",
        "        self.device = device\n",
        "\n",
        "\n",
        "    def detectSentiment(model, text):\n",
        "\n",
        "        tokens = model.tokenizer.tokenize(text)\n",
        "        token_ids = model.tokenizer.convert_tokens_to_ids(tokens)\n",
        "        input_ids = model.tokenizer(text)\n",
        "\n",
        "        batch = model.tokenizer(text, padding=True, truncation=True, max_length=512, return_tensors='pt').to(model.device)\n",
        " \n",
        "        with torch.no_grad():\n",
        "            outputs = model.model(**batch)\n",
        "            predictions = F.softmax(outputs.logits)\n",
        "            labels = torch.argmax(predictions, dim=1)\n",
        "            result = [model.model.config.id2label[label_id] for label_id in labels.tolist()]\n",
        "\n",
        "        return result\n",
        "\n",
        "\n",
        "    def save(model, save_directory):\n",
        "        model.tokenizer.save_pretrained(save_directory)\n",
        "        model.model.save_pretrained(save_directory)\n",
        "\n",
        "sentimentDetection = SentimentDetection(\"cpu\") \n",
        "\n",
        "print(sentimentDetection.detectSentiment(\"C'est vraiment génial\"))\n",
        "\n",
        "print(sentimentDetection.detectSentiment(\"C'est vraiment nul\"))\n"
      ]
    }
  ]
}